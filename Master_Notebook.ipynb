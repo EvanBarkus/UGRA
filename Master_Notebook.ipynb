{
 "cells": [
  {
   "cell_type": "markdown",
   "id": "28b78712-450b-47a8-8823-58032f6c4add",
   "metadata": {},
   "source": [
    "# DisPerSE & Filament Indentification Tutorial"
   ]
  },
  {
   "cell_type": "markdown",
   "id": "f01da98e-8f09-442c-8994-5fcac7ba4859",
   "metadata": {},
   "source": [
    "This Jupyter notebook aims to teach you how to use the Discrete Persistent Structures Extractor (DisPerSE) to find galactic strustures like filaments and clusters. Much of the information in here can also be found on the DisPerSE website (https://www2.iap.fr/users/sousbie/web/html/indexd41d.html), which includes manuals and tutorials for all of DisPerSE's functions as well as more in depth explanations of how DisPerSE works."
   ]
  },
  {
   "cell_type": "markdown",
   "id": "fafaaaae-5a24-418d-bb8c-30e8f7d94ba4",
   "metadata": {},
   "source": [
    "Before getting into DisPerSE, I will import some of the libraries that will be used later on."
   ]
  },
  {
   "cell_type": "code",
   "execution_count": 13,
   "id": "b3b4775e-aa0c-4057-a88d-ab57922fd5fb",
   "metadata": {},
   "outputs": [],
   "source": [
    "# Python Libraries\n",
    "import numpy as np\n",
    "from astropy.table import Table, Column, join\n",
    "from astropy.coordinates import SkyCoord\n",
    "from astropy.table import Column\n",
    "from numpy import *\n",
    "import matplotlib.pyplot as plt\n",
    "%matplotlib inline\n",
    "from astropy.wcs import WCS\n",
    "from astropy.io import fits\n",
    "from matplotlib.colors import LogNorm\n",
    "from astropy.utils.data import download_file\n",
    "import warnings\n",
    "import os\n",
    "import pandas as pd\n",
    "from astropy.io import ascii\n",
    "\n",
    "warnings.filterwarnings('ignore')"
   ]
  },
  {
   "cell_type": "markdown",
   "id": "1bb8803b-cbcf-472e-83f2-e17d83864ba4",
   "metadata": {},
   "source": [
    "### Compiling and Installing DisPerSE"
   ]
  },
  {
   "cell_type": "markdown",
   "id": "e1b3373a-3109-4418-85da-92944e1f3f59",
   "metadata": {},
   "source": [
    "I was able to compile DisPerSE on a virtual machine running Ubuntu 20.04 via Windows WSL. DisPerSE can be downloaded from the aforementioned DisPerSE website or from the github (https://github.com/thierry-sousbie/DisPerSE). There are two required libraries/programs to be able to use the most basic functions of DisPerSE. They are CMake and GSL. You will also want CGAL which is used for the delaunay_2D/3D functions that output files in a format (.NDnet) that can be fed into other functions. \n",
    "\n",
    "Once you have DisPerSE downloaded, navigate to the \"disperse/build\" directory and type \"cmake ../\" to configure the make files. Then installing should be as simple as running \"make install\". You should then be able to find several executables in the \"disperse/bin\" folder, the most important ones are mse, delaunay_2D, delaunay_3D, and skelconv as these are the ones I used. There are also other functions, however, many of these are not essential."
   ]
  },
  {
   "cell_type": "markdown",
   "id": "33dff8a3-a1c1-42d9-8e97-80799b1672ab",
   "metadata": {},
   "source": [
    "### Making a DisPerSE Input File"
   ]
  },
  {
   "cell_type": "markdown",
   "id": "e4a32caf-7bed-45dd-b735-906d9e7cfd22",
   "metadata": {},
   "source": [
    "The input DisPerSE takes in needs the coordinates of galaxies in the form of either RA, DEC, and Z or SGX, SGY, and SGZ. The easiest way to do this is to read out the contents of a catalog into an ascii text file, which is one of the file formats DisPerSE can read. You also need to name each column a specific keyword in the heading so that DisPerSE will recognize what that column's data represents. I will show an example of what I did below, but further examples of what this ascii file should look like can be found on https://www2.iap.fr/users/sousbie/web/html/index744c.html?post/survey_ascii-format."
   ]
  },
  {
   "cell_type": "code",
   "execution_count": 14,
   "id": "ef4963d1-b555-4703-a985-ca6f57f71bed",
   "metadata": {},
   "outputs": [],
   "source": [
    "# Defines a home directory and path to the catalog I want to use\n",
    "homedir = os.getenv(\"HOME\")\n",
    "catalog_path='/home/evan-barkus/Downloads/'"
   ]
  },
  {
   "cell_type": "code",
   "execution_count": 15,
   "id": "6193e6e5-ff55-4cc4-b78b-6af7f72c5823",
   "metadata": {},
   "outputs": [],
   "source": [
    "# VFS main catalog\n",
    "maintab = Table.read('/home/evan-barkus/Downloads/vf_v2_main.fits')\n",
    "\n",
    "# VFS environment catalog (has SG coords)\n",
    "envtab = Table.read('/home/evan-barkus/Downloads/vf_v2_environment.fits')"
   ]
  },
  {
   "cell_type": "code",
   "execution_count": 6,
   "id": "e93f157d-455e-41e5-abda-dbfd0da7eaeb",
   "metadata": {},
   "outputs": [],
   "source": [
    "# Cuts on VFS catalog from Zakharova+24\n",
    "racut = (maintab['RA'] > 100) & (maintab['RA'] < 280)\n",
    "deccut = (maintab['DEC'] > -1.3) & (maintab['DEC'] < 75)\n",
    "vrcut = (maintab['vr'] > 500) & (maintab['vr'] < 3300)\n",
    "cut = vrcut & deccut & racut\n",
    "\n",
    "cuttab = maintab[cut]"
   ]
  },
  {
   "cell_type": "code",
   "execution_count": 9,
   "id": "2a97a3b6-0973-45a5-b8ca-8aff7fd56e5e",
   "metadata": {},
   "outputs": [],
   "source": [
    "c = 3*10**5 #km/s\n",
    "\n",
    "ra = np.array(cuttab['RA']) # Right ascension of each galaxy\n",
    "dec = np.array(cuttab['DEC']) # Declination of each galaxy\n",
    "z = np.array(cuttab['vr']/c) # Redshifts (VFS has recessional velocities so I had to convert them to z by dividing by c)\n",
    "\n",
    "id = np.arange(0,len(ra)) # It is also useful to have a column of indices in the DisPerSE input file"
   ]
  },
  {
   "cell_type": "code",
   "execution_count": 12,
   "id": "cd26ca3a-b27b-49f9-ab73-a70a2991211e",
   "metadata": {},
   "outputs": [],
   "source": [
    "# Defines the columns of the input file\n",
    "col1 = fits.Column(name='ra', format='D', array=ra)\n",
    "col2 = fits.Column(name='dec', format='D', array=dec)\n",
    "col3 = fits.Column(name='z', format='D', array=z)\n",
    "col4 = fits.Column(name='id', format='D', array=id)"
   ]
  },
  {
   "cell_type": "code",
   "execution_count": 13,
   "id": "7ac40e95-7471-4052-9db6-af234e435c4c",
   "metadata": {},
   "outputs": [],
   "source": [
    "# Combines columns and writes them into a fits table\n",
    "coldefs = fits.ColDefs([col1, col2, col3, col4])\n",
    "hdu = fits.BinTableHDU.from_columns([col1, col2, col3, col4])"
   ]
  },
  {
   "cell_type": "code",
   "execution_count": null,
   "id": "f6a967c5-74a2-49e8-a4a3-eb1661dfb97c",
   "metadata": {},
   "outputs": [],
   "source": [
    "# Writes out the fits table \"hdu\" to a .txt file\n",
    "ascii.write(hdu.data,'vfs_ascii_new',names=(['ra','dec','z','id']),overwrite=True)"
   ]
  },
  {
   "cell_type": "markdown",
   "id": "a6f1f2c6-1121-43ad-958d-331a2334a548",
   "metadata": {},
   "source": [
    "And with that, we now have a file that DisPerSE can read."
   ]
  },
  {
   "cell_type": "markdown",
   "id": "df76a378-5ec3-4f67-9f5b-3560d96a7b32",
   "metadata": {},
   "source": [
    "### Running DisPerSE"
   ]
  },
  {
   "cell_type": "markdown",
   "id": "57aeca20-839c-49a7-adf0-8f530187900b",
   "metadata": {},
   "source": [
    "The first thing you will want to do is run either delaunay_3D or delaunay_2D on this file. These output an unstructured network format file (.NDnet) that can be used as an input for other DisPerSE functions, namely mse, which is one of the most important functins in DisPerSE. The difference between the 3D and 2D versions is simply whether you included three or two position coordinates in your input file; DisPerSE should let you know if there are not enough arguments in the input to use them. To use either version, just run \"<path>/disperse/bin/delaunay_nD filename\" in your terminal. After running for a bit, delaunay_nD should generate a new file called \"filename.NDnet\".\n",
    "\n",
    "You can then run mse on this output file. mse computes morse-smale complexes and finds structures. One important parameter of mse is '-nsig' which specifies a threshold for a structure detection as the number of sigmas. I used '-nsig 4' as this was used in Zakharova+24. Another parameter you will want to use is the '-upSkl' option. This is used to generate the output as a skeleton file (.NDskl), where the filament spines link together all of the maxima mse detects. You can use mse in the same way as you did delaunay_nD; just type \"<path>/disperse/bin/mse filename.NDnet -nsig 4 -upSkl\". You will get a new file named something like \"filename.NDnet_s4.NDskl\".\n",
    "\n",
    "Another DisPerSE function you may use is skelconv. This function is useful for converting the skeleton file output of mse to a form that can be read into a python program and displayed. The option you will most likely want to use is '-to NDskl_ascii' which generates the output as an easy to read ascii file format.Again, simply run \"<path>/disperse/bin/skelconv filename.NDnet_s4.NDskl -to NDskl_ascii\".\n",
    "\n",
    "You are now ready to start displaying the DisPerSE outputs and start identifying structures!"
   ]
  },
  {
   "cell_type": "markdown",
   "id": "242b517c-030a-468f-9e36-f73eba1f34fc",
   "metadata": {},
   "source": [
    "### Displaying DisPerSE Outputs"
   ]
  },
  {
   "cell_type": "markdown",
   "id": "5a6da8d5-dfa9-486a-8b34-23788b82a7e7",
   "metadata": {},
   "source": [
    "To display this data, I used a python program provided to me by Dr. Daria Zakharova. I have copied and pasted some of that program below. To run it on the skelconv output file you will need to edit the path to the file. I ran the program from my terminal using \"python3 disperse_opener.py filename.NDnet_s4.a.NDskl\". This program then reads the critcal points and filament spines to two '.csv' files and displays a 2-D plot of the spines and points in supergalactic coordinates, SGY and SGX. An example of what this plot should look like is also displayed below. "
   ]
  },
  {
   "cell_type": "code",
   "execution_count": 12,
   "id": "4d5ba7e2-bff7-4a05-8207-ce2278b0a53b",
   "metadata": {},
   "outputs": [
    {
     "data": {
      "image/png": "[encoded data removed]",
      "text/plain": [
       "<Figure size 640x480 with 1 Axes>"
      ]
     },
     "metadata": {},
     "output_type": "display_data"
    }
   ],
   "source": [
    "import matplotlib.image as mpimg\n",
    "\n",
    "img = mpimg.imread('/home/evan-barkus/Figure_2.png')\n",
    "imgplot = plt.imshow(img)\n",
    "plt.show()"
   ]
  },
  {
   "cell_type": "markdown",
   "id": "889f86f5-d2ce-4087-be2d-24794f4d43cc",
   "metadata": {},
   "source": [
    "Here is the code from Dr. Zakharova."
   ]
  },
  {
   "cell_type": "code",
   "execution_count": null,
   "id": "1d5082e2-535c-4297-a001-1cf285445d15",
   "metadata": {},
   "outputs": [],
   "source": [
    "import pandas as pd\n",
    "import matplotlib.pyplot as plt \n",
    "\n",
    "NDskl_file_path = f\"./vfs_ascii_SG (1)(1).NDnet_s4.up.NDskl.a.NDskl\" # Edit this to be your .NDskl file\n",
    "\n",
    "\n",
    "import io\n",
    "import pandas as pd\n",
    "\n",
    "def add_delimiters(fpath, delimiter=' '):\n",
    "    s_data = []\n",
    "    max_num_delimiters = 0\n",
    "\n",
    "    with open(fpath, 'r') as f:\n",
    "        for line in f:\n",
    "            s_data.append(line.strip())  # Strip newline for consistency\n",
    "            delimiter_count = line.count(delimiter)\n",
    "            if delimiter_count > max_num_delimiters:\n",
    "                max_num_delimiters = delimiter_count\n",
    "\n",
    "    # Create a header row with placeholders if needed\n",
    "    header = delimiter.join([f\"col{i}\" for i in range(max_num_delimiters + 1)])  \n",
    "    s_data.insert(0, header)  # Prepend header\n",
    "    \n",
    "    return io.StringIO(\"\\n\".join(s_data))\n",
    "\n",
    "ndskl = pd.read_csv(add_delimiters(NDskl_file_path), delim_whitespace=True)\n",
    "# print(ndskl)\n",
    "\n",
    "\n",
    "def get_crits(ndskl):\n",
    "    crit_start = ndskl[ndskl.iloc[:, 0] == '[CRITICAL'].index[0] + 1 # find the critical points description in the a.NDskl file\n",
    "    crit_end = ndskl[ndskl.iloc[:, 0] == '[FILAMENTS]'].index[0] - 1 # find the end of critical points description in the a.NDskl file\n",
    "    crits = ndskl.iloc[crit_start:crit_end + 1] # slice the critical point info only\n",
    "    n_suppose = crits.iloc[0,0] # the number of critical points identified by DisPerSE\n",
    "    crits = crits[crits[\"col2\"].notna()] # remove all auxilary info about critical points (only type, position, and density left)\n",
    "    if n_suppose != crits.shape[0]: # check that the number of critical points is now th same as identified by DisPerSE\n",
    "        print(\"The expected number of critical points is differ from the extracted\")\n",
    "   \n",
    "    crits = crits.iloc[:, :7] # remove empty columns\n",
    "    crits.columns = [\"type_crit\", \"x\", \"y\", \"z\", \"dens\", \"pairID\", \"boundary\"] \n",
    "    crits[[\"x\", \"y\", \"z\", \"dens\"]] = crits[[\"x\", \"y\", \"z\", \"dens\"]].astype(\"float64\")\n",
    "    \n",
    "    return crits\n",
    "\n",
    "def get_filaments(ndskl):\n",
    "    fils_start = ndskl[ndskl.iloc[:, 0] == '[FILAMENTS]'].index[0] + 1\n",
    "    fils_end = ndskl[ndskl.iloc[:, 0] == '[CRITICAL'].index[1] - 1\n",
    "    fils = ndskl.iloc[fils_start:fils_end + 1]\n",
    "\n",
    "    fils_data_start = ndskl[ndskl.iloc[:, 0] == '[FILAMENTS'].index[0] + 7 # 7 because firstly the names of field are listed\n",
    "    fils_data_end = ndskl.shape[0]\n",
    "    fils_data = ndskl.iloc[fils_data_start:fils_data_end + 1]\n",
    "\n",
    "    n_fils = int(fils.iloc[0,0])\n",
    "    counter = 0\n",
    "    all_fils = []\n",
    "    for i in range(n_fils):\n",
    "        fil_len = int(fils.iloc[counter + 1, 2])\n",
    "        fil = fils.iloc[(counter + 2) : (counter + 2 + fil_len), :]\n",
    "        fil.loc[:, 'col3'] = i\n",
    "        fil.loc[:, 'col4'] = fil_len\n",
    "        counter += fil_len + 1\n",
    "        all_fils.append(fil)\n",
    "    fils = pd.concat(all_fils, ignore_index=True)\n",
    "\n",
    "    fils = fils.iloc[:, :5]\n",
    "    fils_data = fils_data.iloc[:, :5]\n",
    "\n",
    "    fils.reset_index(drop=True, inplace=True)\n",
    "    fils_data.reset_index(drop=True, inplace=True)\n",
    "    \n",
    "    fils = pd.concat([fils, fils_data], axis=1)\n",
    "\n",
    "    fils.columns = [\"x\", \"y\", \"z\", \"fils_number\", \"fil_len\", \"field_value\", \"orientation\", \"cell\", \"log_field_value\", \"type\"]\n",
    "    fils[[\"x\", \"y\", \"z\"]] = fils[[\"x\", \"y\", \"z\"]].astype(\"float64\")\n",
    "    return fils\n",
    "\n",
    "crits = get_crits(ndskl)\n",
    "fils = get_filaments(ndskl)\n",
    "\n",
    "crits.to_csv(\"./critical_points.csv\", index = False)  \n",
    "fils.to_csv(\"./filaments_spines_3D.csv\", index = False)  \n",
    "\n",
    "\n",
    "plt.scatter(fils['x'], fils['y'], s = 0.1, label = \"filaments spines\")\n",
    "plt.scatter(crits['x'], crits['y'], color = \"red\", label = \"critical points\")\n",
    "plt.xlabel(\"X, Mpc/h\")\n",
    "plt.ylabel(\"Y, Mpc/h\")\n",
    "plt.legend()\n",
    "plt.show()"
   ]
  },
  {
   "cell_type": "markdown",
   "id": "01e7d638-fa5b-4ab2-bb8a-99081614bb9c",
   "metadata": {},
   "source": [
    "### Finding the Virgo Cluster Center"
   ]
  },
  {
   "cell_type": "markdown",
   "id": "9fa15423-50f5-481b-9a67-233333f09ee2",
   "metadata": {},
   "source": [
    "The code above should output all of the critical points into a file named 'critical_points.csv'. These critical points will be in SGX and SGY with units of Mpc/h. They correspond to 3 types of critical point: saddle points, maxima, and minima. These critical points are computed using local densities, the number of galaxies per Mpc^3. To identify cluster members you want to look at maxima. Luckily one of the columns of 'critical_points.csv' is a local density for each critical point. This makes it easy to identify the center of the Virgo Cluster; you just have to find the critical point with the maximum density as I did below."
   ]
  },
  {
   "cell_type": "code",
   "execution_count": 17,
   "id": "5d8860b5-70ec-41ac-8a14-a656a154487a",
   "metadata": {},
   "outputs": [],
   "source": [
    "# Filaments and Critical Points\n",
    "data = pd.read_csv(catalog_path+'/disperse_example/filaments_spines_3D.csv')\n",
    "data2 = pd.read_csv(catalog_path+'/disperse_example/critical_points.csv')"
   ]
  },
  {
   "cell_type": "code",
   "execution_count": 18,
   "id": "0dde04c3-4e08-4fee-b60a-2a789ed1a997",
   "metadata": {},
   "outputs": [
    {
     "name": "stdout",
     "output_type": "stream",
     "text": [
      "12\n"
     ]
    }
   ],
   "source": [
    "virgo_cluster_center = max(data2['dens'])\n",
    "\n",
    "# Finds which critical point corresponds to the center of the Virgo Cluster\n",
    "dens = data2['dens']\n",
    "for i in range(len(data2['dens'])):\n",
    "    if dens[i] == virgo_cluster_center:\n",
    "        print(i)"
   ]
  },
  {
   "cell_type": "markdown",
   "id": "63061671-8bb3-4b81-b9c1-f2f20ca5947c",
   "metadata": {},
   "source": [
    "After finding which point the Virgo Cluster center was, the twelfth row, I found the coordinates of it."
   ]
  },
  {
   "cell_type": "code",
   "execution_count": 24,
   "id": "d50ddf9a-4e95-4867-ab36-59d6a5988cb4",
   "metadata": {},
   "outputs": [],
   "source": [
    "sgx = data2['x']\n",
    "sgy = data2['y']\n",
    "sgz = data2['z']\n",
    "\n",
    "VCx = sgx[11]\n",
    "VCy = sgy[11]\n",
    "VCz = sgz[11]"
   ]
  },
  {
   "cell_type": "markdown",
   "id": "0033e5d7-3d76-4f89-88f1-e0a02aeb88dc",
   "metadata": {},
   "source": [
    "### Cutting Small Filaments"
   ]
  },
  {
   "cell_type": "markdown",
   "id": "7d3a8af3-fa2a-4d60-b8f3-8b52072950d5",
   "metadata": {},
   "source": [
    "In Zakharova+24 they cut filaments shorter than 3 Mpc/h long because these were too short to be certain of. To remove these filaments, I used the boolean statements below on 'filament_spines_3D.csv'."
   ]
  },
  {
   "cell_type": "code",
   "execution_count": 26,
   "id": "8e128ec4-b4c2-49fd-8a20-61ff5e249e01",
   "metadata": {},
   "outputs": [],
   "source": [
    "# Cuts all filaments less than 3 Mpc/h long\n",
    "fil_len = data['fil_len']\n",
    "cut = (fil_len >= 3.0)\n",
    "cutdata = data[cut]"
   ]
  },
  {
   "cell_type": "markdown",
   "id": "cc4587ed-5a14-4885-94c6-416661f6568d",
   "metadata": {},
   "source": [
    "### Identifying Cluster Members"
   ]
  },
  {
   "cell_type": "markdown",
   "id": "ac1ee9d3-67af-4592-87e3-bb806e489599",
   "metadata": {},
   "source": [
    "It is easiest to identify the cluster members first as these only have one criteria and they are excluded from the filaments. A galaxy is considered a cluster member if it is less than 3.6 Mpc/h from the Virgo Cluster center. Below is the code I wrote to find cluster members."
   ]
  },
  {
   "cell_type": "code",
   "execution_count": 28,
   "id": "ad32de0d-2905-4681-a4e5-94ffbb6adf95",
   "metadata": {},
   "outputs": [],
   "source": [
    "# VFS SG Coords\n",
    "myTab = ascii.read('/home/evan-barkus/Downloads/vfs_ascii_SG (1)(1)')\n",
    "\n",
    "# Galaxy Coords from VFS\n",
    "x_gal = np.array(myTab['px'])\n",
    "y_gal = np.array(myTab['py'])\n",
    "z_gal = np.array(myTab['pz'])\n",
    "\n",
    "# Critical Point Coords\n",
    "x_crit = np.array(data2['x'])\n",
    "y_crit = np.array(data2['y'])\n",
    "z_crit = np.array(data2['z'])"
   ]
  },
  {
   "cell_type": "code",
   "execution_count": 29,
   "id": "05330acc-573f-448a-b66b-1f2f962cc478",
   "metadata": {},
   "outputs": [],
   "source": [
    "ids = myTab['id'] # indices of the original VFS data\n",
    "\n",
    "crit_x_gal = []\n",
    "crit_y_gal = []\n",
    "crit_z_gal = []\n",
    "crit_dists_gal = []\n",
    "crit_id = []\n",
    "for i in range(len(myTab)):\n",
    "    gal_id = ids[i]\n",
    "    crit_dist = sqrt((VCx - x_gal[i])**2 + (VCy - y_gal[i])**2 + (VCz - z_gal[i])**2) # 3D distance from critical point in Mpc/h\n",
    "    if (crit_dist <= 3.6): # A galaxy is a cluster member if it is with 3.6 Mpc/h of the Virgo cluster center\n",
    "        crit_x_gal.append(x_gal[i]) # SGX\n",
    "        crit_y_gal.append(y_gal[i]) # SGY\n",
    "        crit_z_gal.append(z_gal[i]) # SGZ\n",
    "        crit_dists_gal.append(crit_dist)\n",
    "        crit_id.append(gal_id) # indices"
   ]
  },
  {
   "cell_type": "code",
   "execution_count": 30,
   "id": "4e341b3e-9e5b-4119-86c4-0209e9d6b4da",
   "metadata": {},
   "outputs": [
    {
     "data": {
      "text/plain": [
       "402"
      ]
     },
     "execution_count": 30,
     "metadata": {},
     "output_type": "execute_result"
    }
   ],
   "source": [
    "len(crit_id)"
   ]
  },
  {
   "cell_type": "markdown",
   "id": "90270447-c0ab-4dee-a74b-428a4ef978d0",
   "metadata": {},
   "source": [
    "### Identifying Filament Galaxies"
   ]
  },
  {
   "cell_type": "markdown",
   "id": "618c28d7-18de-47ab-8e38-cfd92aae7188",
   "metadata": {},
   "source": [
    "Filament members are galaxies found within 2 Mpc/h of a filament spine and are not cluster members. "
   ]
  },
  {
   "cell_type": "code",
   "execution_count": 32,
   "id": "baad47f2-f90f-4245-8f45-5e89647b63f2",
   "metadata": {},
   "outputs": [],
   "source": [
    "# Filament Spine Coords\n",
    "x_fil = np.array(data['x'])\n",
    "y_fil = np.array(data['y'])\n",
    "z_fil = np.array(data['z'])\n",
    "\n",
    "# Filament and Cluster Members Coords, Distances from Filaments, and indices\n",
    "ids = myTab['id'] # index corresponding to a specific galaxy\n",
    "\n",
    "fil_crit_id = []\n",
    "fil_crit_x_gal = []\n",
    "fil_crit_y_gal = []\n",
    "fil_crit_z_gal = []\n",
    "fil_crit_dists_gal = []\n",
    "for i in range(len(myTab)): # repeat for all VFS galaxies\n",
    "    for j in range(len(data)): # repeat for all filament spine\n",
    "        gal_id2 = ids[i] # indices of original VFS data\n",
    "        fil_dist = sqrt((x_fil[j] - x_gal[i])**2 + (y_fil[j] - y_gal[i])**2 + (z_fil[j] - z_gal[i])**2) # 3D distance from filament spines in Mpc/h\n",
    "        if (fil_dist <= 2): # Limits to galaxies within 2Mpc/h of a spine\n",
    "            fil_crit_x_gal.append(x_gal[i]) # SGX\n",
    "            fil_crit_y_gal.append(y_gal[i]) # SGY\n",
    "            fil_crit_z_gal.append(z_gal[i]) # SGZ\n",
    "            fil_crit_dists_gal.append(fil_dist) # distance from a filament spine\n",
    "            fil_crit_id.append(gal_id2) # indices"
   ]
  }
 ],
 "metadata": {
  "kernelspec": {
   "display_name": "Python 3 (ipykernel)",
   "language": "python",
   "name": "python3"
  },
  "language_info": {
   "codemirror_mode": {
    "name": "ipython",
    "version": 3
   },
   "file_extension": ".py",
   "mimetype": "text/x-python",
   "name": "python",
   "nbconvert_exporter": "python",
   "pygments_lexer": "ipython3",
   "version": "3.8.10"
  }
 },
 "nbformat": 4,
 "nbformat_minor": 5
}
