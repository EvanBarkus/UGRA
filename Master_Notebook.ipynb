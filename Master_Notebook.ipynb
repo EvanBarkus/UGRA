{
 "cells": [
  {
   "cell_type": "markdown",
   "id": "28b78712-450b-47a8-8823-58032f6c4add",
   "metadata": {},
   "source": [
    "# DisPerSE & Filament Indentification Tutorial"
   ]
  },
  {
   "cell_type": "markdown",
   "id": "f01da98e-8f09-442c-8994-5fcac7ba4859",
   "metadata": {},
   "source": [
    "This Jupyter notebook aims to teach you how to use the Discrete Persistent Structures Extractor (DisPerSE) to find galactic strustures like filaments and clusters. Much of the information in here can also be found on the DisPerSE website (https://www2.iap.fr/users/sousbie/web/html/indexd41d.html), which includes manuals and tutorials for all of DisPerSE's functions as well as more in depth explanations of how DisPerSE works."
   ]
  },
  {
   "cell_type": "markdown",
   "id": "fafaaaae-5a24-418d-bb8c-30e8f7d94ba4",
   "metadata": {},
   "source": [
    "Before getting into DisPerSE, I will import some of the libraries that will be used later on."
   ]
  },
  {
   "cell_type": "code",
   "execution_count": 2,
   "id": "b3b4775e-aa0c-4057-a88d-ab57922fd5fb",
   "metadata": {},
   "outputs": [],
   "source": [
    "# Python Libraries\n",
    "import numpy as np\n",
    "from astropy.table import Table, Column, join\n",
    "from astropy.coordinates import SkyCoord\n",
    "from astropy.table import Column\n",
    "from numpy import *\n",
    "import matplotlib.pyplot as plt\n",
    "%matplotlib inline\n",
    "from astropy.wcs import WCS\n",
    "from astropy.io import fits\n",
    "from matplotlib.colors import LogNorm\n",
    "from astropy.utils.data import download_file\n",
    "import warnings\n",
    "import os\n",
    "import pandas as pd\n",
    "from astropy.io import ascii\n",
    "\n",
    "warnings.filterwarnings('ignore')"
   ]
  },
  {
   "cell_type": "markdown",
   "id": "1bb8803b-cbcf-472e-83f2-e17d83864ba4",
   "metadata": {},
   "source": [
    "### Compiling and Installing DisPerSE"
   ]
  },
  {
   "cell_type": "markdown",
   "id": "e1b3373a-3109-4418-85da-92944e1f3f59",
   "metadata": {},
   "source": [
    "I was able to compile DisPerSE on a virtual machine running Ubuntu 20.04 via Windows WSL. DisPerSE can be downloaded from the aforementioned DisPerSE website or from the github (https://github.com/thierry-sousbie/DisPerSE). There are two required libraries/programs to be able to use the most basic functions of DisPerSE. They are CMake and GSL. You will also want CGAL which is used for the delaunay_2D/3D functions that output files in a format (.NDnet) that can be fed into other functions. \n",
    "\n",
    "Once you have DisPerSE downloaded, navigate to the \"disperse/build\" directory and type \"cmake ../\" to configure the make files. Then installing should be as simple as running \"make install\". You should then be able to find several executables in the \"disperse/bin\" folder, the most important ones are mse, delaunay_2D, delaunay_3D, and skelconv as these are the ones I used. There are also other functions, however, many of these are not essential."
   ]
  },
  {
   "cell_type": "markdown",
   "id": "33dff8a3-a1c1-42d9-8e97-80799b1672ab",
   "metadata": {},
   "source": [
    "### Making an input file for DisPerSE"
   ]
  },
  {
   "cell_type": "markdown",
   "id": "e4a32caf-7bed-45dd-b735-906d9e7cfd22",
   "metadata": {},
   "source": [
    "The input DisPerSE takes in needs the coordinates of galaxies in the form of either RA, DEC, and Z or SGX, SGY, and SGZ. The easiest way to do this is to read out the contents of a catalog into an ascii text file, which is one of the file formats DisPerSE can read. You also need to name each column a specific keyword in the heading so that DisPerSE will recognize what that column's data represents. I will show an example of what I did below, but further examples of what this ascii file should look like can be found on https://www2.iap.fr/users/sousbie/web/html/index744c.html?post/survey_ascii-format."
   ]
  },
  {
   "cell_type": "code",
   "execution_count": 3,
   "id": "ef4963d1-b555-4703-a985-ca6f57f71bed",
   "metadata": {},
   "outputs": [],
   "source": [
    "# Defines a home directory and path to the catalog I want to use\n",
    "homedir = os.getenv(\"HOME\")\n",
    "catalog_path='/home/evan-barkus/Downloads/'"
   ]
  },
  {
   "cell_type": "code",
   "execution_count": 5,
   "id": "6193e6e5-ff55-4cc4-b78b-6af7f72c5823",
   "metadata": {},
   "outputs": [],
   "source": [
    "# VFS main catalog\n",
    "maintab = Table.read('/home/evan-barkus/Downloads/vf_v2_main.fits')\n",
    "\n",
    "# VFS environment catalog (has SG coords)\n",
    "envtab = Table.read('/home/evan-barkus/Downloads/vf_v2_environment.fits')"
   ]
  },
  {
   "cell_type": "code",
   "execution_count": 6,
   "id": "e93f157d-455e-41e5-abda-dbfd0da7eaeb",
   "metadata": {},
   "outputs": [],
   "source": [
    "# Cuts on VFS catalog from Zakharova+24\n",
    "racut = (maintab['RA'] > 100) & (maintab['RA'] < 280)\n",
    "deccut = (maintab['DEC'] > -1.3) & (maintab['DEC'] < 75)\n",
    "vrcut = (maintab['vr'] > 500) & (maintab['vr'] < 3300)\n",
    "cut = vrcut & deccut & racut\n",
    "\n",
    "cuttab = maintab[cut]"
   ]
  },
  {
   "cell_type": "code",
   "execution_count": 9,
   "id": "2a97a3b6-0973-45a5-b8ca-8aff7fd56e5e",
   "metadata": {},
   "outputs": [],
   "source": [
    "c = 3*10**5 #km/s\n",
    "\n",
    "ra = np.array(cuttab['RA']) # Right ascension of each galaxy\n",
    "dec = np.array(cuttab['DEC']) # Declination of each galaxy\n",
    "z = np.array(cuttab['vr']/c) # Redshifts (VFS has recessional velocities so I had to convert them to z by dividing by c)\n",
    "\n",
    "id = np.arange(0,len(ra)) # It is also useful to have a column of indices in the DisPerSE input file"
   ]
  },
  {
   "cell_type": "code",
   "execution_count": 12,
   "id": "cd26ca3a-b27b-49f9-ab73-a70a2991211e",
   "metadata": {},
   "outputs": [],
   "source": [
    "# Defines the columns of the input file\n",
    "col1 = fits.Column(name='ra', format='D', array=ra)\n",
    "col2 = fits.Column(name='dec', format='D', array=dec)\n",
    "col3 = fits.Column(name='z', format='D', array=z)\n",
    "col4 = fits.Column(name='id', format='D', array=id)"
   ]
  },
  {
   "cell_type": "code",
   "execution_count": 13,
   "id": "7ac40e95-7471-4052-9db6-af234e435c4c",
   "metadata": {},
   "outputs": [],
   "source": [
    "# Combines columns and writes them into a fits table\n",
    "coldefs = fits.ColDefs([col1, col2, col3, col4])\n",
    "hdu = fits.BinTableHDU.from_columns([col1, col2, col3, col4])"
   ]
  },
  {
   "cell_type": "code",
   "execution_count": null,
   "id": "f6a967c5-74a2-49e8-a4a3-eb1661dfb97c",
   "metadata": {},
   "outputs": [],
   "source": [
    "# Writes out the fits table \"hdu\" to a .txt file\n",
    "ascii.write(hdu.data,'vfs_ascii_new',names=(['ra','dec','z','id']),overwrite=True)"
   ]
  },
  {
   "cell_type": "markdown",
   "id": "a6f1f2c6-1121-43ad-958d-331a2334a548",
   "metadata": {},
   "source": [
    "And with that, we now have a file that DisPerSE can read."
   ]
  },
  {
   "cell_type": "markdown",
   "id": "df76a378-5ec3-4f67-9f5b-3560d96a7b32",
   "metadata": {},
   "source": [
    "### Running DisPerSE"
   ]
  },
  {
   "cell_type": "markdown",
   "id": "57aeca20-839c-49a7-adf0-8f530187900b",
   "metadata": {},
   "source": [
    "The first thing you will want to do is run either delaunay_3D or delaunay_2D on this file. These output an unstructured network format file (.NDnet) that can be used as an input for other DisPerSE functions, namely mse, which is the main function DisPerSE is built around. The difference between the 3D and 2D versions is simply whether you include three position coordinates or two in your input file; DisPerSE should let you know if there are not enough arguments in the input to use them. To use either version, just run \"<path>/disperse/bin/delaunay_nD filename\". After running for a bit, delaunay_nD should generate a new file called \"filename.NDnet\"."
   ]
  },
  {
   "cell_type": "code",
   "execution_count": null,
   "id": "7c687349-ca84-4856-8ed1-69c06b5617f6",
   "metadata": {},
   "outputs": [],
   "source": []
  }
 ],
 "metadata": {
  "kernelspec": {
   "display_name": "Python 3 (ipykernel)",
   "language": "python",
   "name": "python3"
  },
  "language_info": {
   "codemirror_mode": {
    "name": "ipython",
    "version": 3
   },
   "file_extension": ".py",
   "mimetype": "text/x-python",
   "name": "python",
   "nbconvert_exporter": "python",
   "pygments_lexer": "ipython3",
   "version": "3.8.10"
  }
 },
 "nbformat": 4,
 "nbformat_minor": 5
}
